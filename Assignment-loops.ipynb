{
 "cells": [
  {
   "cell_type": "markdown",
   "id": "b8be44cc",
   "metadata": {},
   "source": [
    "# Q1 Print nmber from 1 to 5 ing a while loop."
   ]
  },
  {
   "cell_type": "code",
   "execution_count": 4,
   "id": "22d9ad5b",
   "metadata": {},
   "outputs": [
    {
     "name": "stdout",
     "output_type": "stream",
     "text": [
      "1\n",
      "2\n",
      "3\n",
      "4\n",
      "5\n"
     ]
    }
   ],
   "source": [
    "i=1\n",
    "while i<=5:\n",
    "    print(i)\n",
    "    i=i+1"
   ]
  },
  {
   "cell_type": "markdown",
   "id": "c5fe207b",
   "metadata": {},
   "source": [
    "# Q2 Calclate the m of nmber from 1 to 10 ing a while loop."
   ]
  },
  {
   "cell_type": "code",
   "execution_count": 5,
   "id": "d5f6a6a8",
   "metadata": {},
   "outputs": [],
   "source": [
    "sum=0\n",
    "i=1\n",
    "while i<=10:\n",
    "    sum=sum+i\n",
    "    i=i+1"
   ]
  },
  {
   "cell_type": "code",
   "execution_count": 6,
   "id": "d628221c",
   "metadata": {},
   "outputs": [
    {
     "name": "stdout",
     "output_type": "stream",
     "text": [
      "55\n"
     ]
    }
   ],
   "source": [
    "print(sum)"
   ]
  },
  {
   "cell_type": "markdown",
   "id": "cf187002",
   "metadata": {},
   "source": [
    "# Q3 Calclate the factorial of a nmber ing a for loop."
   ]
  },
  {
   "cell_type": "code",
   "execution_count": 19,
   "id": "92cb5142",
   "metadata": {},
   "outputs": [
    {
     "name": "stdout",
     "output_type": "stream",
     "text": [
      "Enter the number whose factorial you want  = 5\n"
     ]
    }
   ],
   "source": [
    "num=int(input(\"Enter the number whose factorial you want  = \"))\n",
    "fact=1\n",
    "\n",
    "for i in range(1,num+1):\n",
    "    fact=fact*i"
   ]
  },
  {
   "cell_type": "code",
   "execution_count": 20,
   "id": "87612e82",
   "metadata": {},
   "outputs": [
    {
     "data": {
      "text/plain": [
       "120"
      ]
     },
     "execution_count": 20,
     "metadata": {},
     "output_type": "execute_result"
    }
   ],
   "source": [
    "fact"
   ]
  },
  {
   "cell_type": "markdown",
   "id": "0f2470be",
   "metadata": {},
   "source": [
    "# Q4 Cont the nmber of vowel in a tring ing a for loop."
   ]
  },
  {
   "cell_type": "code",
   "execution_count": 23,
   "id": "fa7b85ce",
   "metadata": {},
   "outputs": [
    {
     "name": "stdout",
     "output_type": "stream",
     "text": [
      "Enter the string which you want to count the vowels : abhay\n",
      "The number of vowels in 'abhay' is: 2\n"
     ]
    }
   ],
   "source": [
    "string=str(input(\"Enter the string which you want to count the vowels : \"))\n",
    "list=['A','I','E','O','U','a','e','i','o','u']\n",
    "count=0\n",
    "for i in string:\n",
    "    if i in list:\n",
    "        count=count+1\n",
    "print(f\"The number of vowels in '{string}' is: {count}\")        \n",
    "   "
   ]
  },
  {
   "cell_type": "markdown",
   "id": "258b0169",
   "metadata": {},
   "source": [
    "# Q5 Print a pattern ing neted loop."
   ]
  },
  {
   "cell_type": "code",
   "execution_count": 29,
   "id": "0ea36baa",
   "metadata": {},
   "outputs": [
    {
     "name": "stdout",
     "output_type": "stream",
     "text": [
      "Enter the number of the rows : = :5\n",
      "* \n",
      "* * \n",
      "* * * \n",
      "* * * * \n",
      "* * * * * \n"
     ]
    }
   ],
   "source": [
    "rows=int(input(\"Enter the number of the rows : = :\"))\n",
    "\n",
    "for i in range(1, rows + 1):\n",
    "    for j in range(1, i + 1):\n",
    "        print(\"*\", end=\" \")\n",
    "    print()  "
   ]
  },
  {
   "cell_type": "markdown",
   "id": "203efac8",
   "metadata": {},
   "source": [
    "# Q6 Generate a mltiplication table ing neted loop."
   ]
  },
  {
   "cell_type": "code",
   "execution_count": 16,
   "id": "c7d31cb0",
   "metadata": {},
   "outputs": [
    {
     "name": "stdout",
     "output_type": "stream",
     "text": [
      "Enter the number till you want to generate the multiplication table = 5\n",
      "1 X 1=1\n",
      "1 X 2=2\n",
      "1 X 3=3\n",
      "1 X 4=4\n",
      "1 X 5=5\n",
      "1 X 6=6\n",
      "1 X 7=7\n",
      "1 X 8=8\n",
      "1 X 9=9\n",
      "1 X 10=10\n",
      "\n",
      "\n",
      "2 X 1=2\n",
      "2 X 2=4\n",
      "2 X 3=6\n",
      "2 X 4=8\n",
      "2 X 5=10\n",
      "2 X 6=12\n",
      "2 X 7=14\n",
      "2 X 8=16\n",
      "2 X 9=18\n",
      "2 X 10=20\n",
      "\n",
      "\n",
      "3 X 1=3\n",
      "3 X 2=6\n",
      "3 X 3=9\n",
      "3 X 4=12\n",
      "3 X 5=15\n",
      "3 X 6=18\n",
      "3 X 7=21\n",
      "3 X 8=24\n",
      "3 X 9=27\n",
      "3 X 10=30\n",
      "\n",
      "\n",
      "4 X 1=4\n",
      "4 X 2=8\n",
      "4 X 3=12\n",
      "4 X 4=16\n",
      "4 X 5=20\n",
      "4 X 6=24\n",
      "4 X 7=28\n",
      "4 X 8=32\n",
      "4 X 9=36\n",
      "4 X 10=40\n",
      "\n",
      "\n",
      "5 X 1=5\n",
      "5 X 2=10\n",
      "5 X 3=15\n",
      "5 X 4=20\n",
      "5 X 5=25\n",
      "5 X 6=30\n",
      "5 X 7=35\n",
      "5 X 8=40\n",
      "5 X 9=45\n",
      "5 X 10=50\n",
      "\n",
      "\n"
     ]
    }
   ],
   "source": [
    "num=int(input(\"Enter the number till you want to generate the multiplication table = \"))\n",
    "i=1\n",
    "j=1\n",
    "for i in range(1,num+1):\n",
    "    for j in range(1,11):\n",
    "        print(f\"{i} X {j}={i*j}\")\n",
    "        \n",
    "        \n",
    "    print(\"\\n\")\n",
    "    \n",
    "        "
   ]
  },
  {
   "cell_type": "code",
   "execution_count": null,
   "id": "4c077d51",
   "metadata": {},
   "outputs": [],
   "source": []
  },
  {
   "cell_type": "code",
   "execution_count": null,
   "id": "8bbb8865",
   "metadata": {},
   "outputs": [],
   "source": []
  }
 ],
 "metadata": {
  "kernelspec": {
   "display_name": "Python 3 (ipykernel)",
   "language": "python",
   "name": "python3"
  },
  "language_info": {
   "codemirror_mode": {
    "name": "ipython",
    "version": 3
   },
   "file_extension": ".py",
   "mimetype": "text/x-python",
   "name": "python",
   "nbconvert_exporter": "python",
   "pygments_lexer": "ipython3",
   "version": "3.11.5"
  }
 },
 "nbformat": 4,
 "nbformat_minor": 5
}
